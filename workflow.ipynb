{
 "cells": [
  {
   "cell_type": "markdown",
   "metadata": {},
   "source": [
    "# Worflow implementation using Python"
   ]
  },
  {
   "cell_type": "markdown",
   "metadata": {},
   "source": [
    "## Imports"
   ]
  },
  {
   "cell_type": "code",
   "execution_count": 1,
   "metadata": {},
   "outputs": [],
   "source": [
    "import pandas"
   ]
  },
  {
   "cell_type": "markdown",
   "metadata": {},
   "source": [
    "## Reading input data"
   ]
  },
  {
   "cell_type": "code",
   "execution_count": 2,
   "metadata": {},
   "outputs": [],
   "source": [
    "lfcall = pandas.read_csv(\"input/lfcall.csv\", index_col=0)\n",
    "exc1 = pandas.read_csv(\"input/DEGs/exc1.csv\", index_col=0)\n",
    "exc2 = pandas.read_csv(\"input/DEGs/exc2.csv\", index_col=0)\n",
    "exc3 = pandas.read_csv(\"input/DEGs/exc3.csv\", index_col=0)\n",
    "exc4e = pandas.read_csv(\"input/DEGs/exc4e.csv\", index_col=0)\n",
    "exc4s = pandas.read_csv(\"input/DEGs/exc4s.csv\", index_col=0)\n",
    "sig1 = pandas.read_csv(\"input/DEGs/sig1.csv\", index_col=0)\n",
    "sig2 = pandas.read_csv(\"input/DEGs/sig2.csv\", index_col=0)\n",
    "sig3 = pandas.read_csv(\"input/DEGs/sig3.csv\", index_col=0)\n",
    "sig4e = pandas.read_csv(\"input/DEGs/sig4e.csv\", index_col=0)\n",
    "sig4s = pandas.read_csv(\"input/DEGs/sig4s.csv\", index_col=0)"
   ]
  },
  {
   "cell_type": "code",
   "execution_count": 17,
   "metadata": {},
   "outputs": [],
   "source": [
    "yellow_string = pandas.read_csv(\"input/STRING/yellow_interactions.csv\")"
   ]
  },
  {
   "cell_type": "code",
   "execution_count": 13,
   "metadata": {},
   "outputs": [],
   "source": [
    "yellow_wgcna_genes = pandas.read_csv(\"input/WGCNA/module_yellow.txt\", names=[\"name\"])"
   ]
  },
  {
   "cell_type": "code",
   "execution_count": 4,
   "metadata": {},
   "outputs": [],
   "source": [
    "dgidb_drugs_yellow = pandas.read_csv(\"input/DGIDB/dgidb_yellow_interactions.tsv\", sep=\"\\t\")\n",
    "dgidb_categories_yellow = pandas.read_csv(\"input/DGIDB/dgidb_yellow_categories.tsv\", sep=\"\\t\")"
   ]
  },
  {
   "cell_type": "markdown",
   "metadata": {},
   "source": [
    "## Processing data"
   ]
  },
  {
   "cell_type": "code",
   "execution_count": 15,
   "metadata": {},
   "outputs": [],
   "source": [
    "yellow_wgcna = lfcall[lfcall.gene.isin(yellow_wgcna_genes.name)]"
   ]
  },
  {
   "cell_type": "code",
   "execution_count": 27,
   "metadata": {},
   "outputs": [],
   "source": [
    "yellow_spliting_name = yellow_string.name.str.split(\" \\\\(pp\\\\) \").str\n",
    "yellow_string[\"node1\"] = yellow_spliting_name[0]\n",
    "yellow_string[\"node2\"] = yellow_spliting_name[1]"
   ]
  },
  {
   "cell_type": "code",
   "execution_count": 29,
   "metadata": {},
   "outputs": [],
   "source": [
    "cols = [\"node1\", \"node2\", \"experiments\", \"databases\", \"score\"]\n",
    "filters = (\n",
    "    (yellow_string.experiments >= 0.500) | \n",
    "    ((yellow_string.experiments >= 0.300) & (yellow_string.databases >= 0.900))\n",
    ")\n",
    "filteryellow = yellow_string[cols][filters]"
   ]
  },
  {
   "cell_type": "code",
   "execution_count": 65,
   "metadata": {},
   "outputs": [],
   "source": [
    "#TODO entender pq precisa renomear e remover itens\n",
    "filteryellow.loc[filteryellow[filteryellow.node2 == \"DP2\"].index, \"node2\"] = \"TFDP2\"\n",
    "filteryellow.loc[filteryellow[filteryellow.node2 == \"CCL4L1\"].index, \"node2\"] = \"CCL4L2\"\n",
    "filteryellow = filteryellow.drop(index=filteryellow[filteryellow.node2 == \"ENSP00000412457\"].index)\n",
    "\n",
    "assert filteryellow.node1.isin(yellow_wgcna_genes.name).all()\n",
    "assert filteryellow.node2.isin(yellow_wgcna_genes.name).all()"
   ]
  },
  {
   "cell_type": "markdown",
   "metadata": {},
   "source": [
    "## Building Graphs"
   ]
  },
  {
   "cell_type": "code",
   "execution_count": null,
   "metadata": {},
   "outputs": [],
   "source": []
  }
 ],
 "metadata": {
  "kernelspec": {
   "display_name": "Python 3",
   "language": "python",
   "name": "python3"
  },
  "language_info": {
   "codemirror_mode": {
    "name": "ipython",
    "version": 3
   },
   "file_extension": ".py",
   "mimetype": "text/x-python",
   "name": "python",
   "nbconvert_exporter": "python",
   "pygments_lexer": "ipython3",
   "version": "3.6.8"
  }
 },
 "nbformat": 4,
 "nbformat_minor": 4
}
